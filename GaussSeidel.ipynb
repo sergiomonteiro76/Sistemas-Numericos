{
  "nbformat": 4,
  "nbformat_minor": 0,
  "metadata": {
    "colab": {
      "provenance": []
    },
    "kernelspec": {
      "name": "python3",
      "display_name": "Python 3"
    },
    "language_info": {
      "name": "python"
    }
  },
  "cells": [
    {
      "cell_type": "markdown",
      "source": [
        "# **Sistemas Numéricos Computacionais.**\n",
        "\n",
        "**Gauss-Seidel**\n",
        "\n",
        "\n",
        "**prof: Sérgio Assunção Monteiro, D.Sc**\n",
        "\n",
        "**linkedin:** https://www.linkedin.com/in/sergio-assun%C3%A7%C3%A3o-monteiro-b781897b/\n",
        "\n",
        "**lattes:** http://lattes.cnpq.br/9489191035734025"
      ],
      "metadata": {
        "id": "R7wPe9lsuF1X"
      }
    },
    {
      "cell_type": "markdown",
      "source": [
        "# **Solução de Sistema Linear: Ax=b**"
      ],
      "metadata": {
        "id": "WBA5_MTOtBGh"
      }
    },
    {
      "cell_type": "code",
      "source": [
        "#Exemplo 01\n",
        "from numpy import array, zeros, fabs, linalg\n",
        "\n",
        "a = array([[0, 6, -1, 2, 2],\n",
        "           [0, 3, 4, 1, 7],\n",
        "           [5, 1, 0, 3, -1],\n",
        "           [3, 1, 3, 0, 2],\n",
        "           [4, 4, 1, -2, 1]], float)\n",
        "#termos independentes \n",
        "b = array([5, 7, 2, 3, 4], float)\n",
        "\n",
        "print(\"Solução pelo NumPy:\")\n",
        "print(linalg.solve(a, b))"
      ],
      "metadata": {
        "colab": {
          "base_uri": "https://localhost:8080/"
        },
        "id": "ApeUMCVttZhW",
        "outputId": "4b01755c-6acb-4695-f801-ea3c0e009e43"
      },
      "execution_count": 1,
      "outputs": [
        {
          "output_type": "stream",
          "name": "stdout",
          "text": [
            "Solução pelo NumPy:\n",
            "[ 0.38947368  0.49473684 -0.10877193  0.12982456  0.83157895]\n"
          ]
        }
      ]
    },
    {
      "cell_type": "code",
      "source": [
        "#Exemplo 02\n",
        "import numpy as np\n",
        "from numpy import array, zeros, fabs, linalg\n",
        "\n",
        "a = array([[4, 2, 3],\n",
        "           [4, 3, 1],\n",
        "           [2, 5, 1]], float)\n",
        "#termos independentes \n",
        "b = array([1, 1, 1], float)\n",
        "\n",
        "print(\"Solução pelo NumPy:\")\n",
        "x=linalg.solve(a, b)\n",
        "print(f'x={x}')"
      ],
      "metadata": {
        "colab": {
          "base_uri": "https://localhost:8080/"
        },
        "id": "HJVb3MT2tV-K",
        "outputId": "8cc2af3f-3de4-4b7c-fcd8-c7e50a66da6e"
      },
      "execution_count": 2,
      "outputs": [
        {
          "output_type": "stream",
          "name": "stdout",
          "text": [
            "Solução pelo NumPy:\n",
            "x=[0.13333333 0.13333333 0.06666667]\n"
          ]
        }
      ]
    },
    {
      "cell_type": "markdown",
      "source": [
        "# **Gauss-Seidel**"
      ],
      "metadata": {
        "id": "LT4M3z80tqBo"
      }
    },
    {
      "cell_type": "code",
      "source": [
        "import numpy as np"
      ],
      "metadata": {
        "id": "FLTwDG0Gt76c"
      },
      "execution_count": 3,
      "outputs": []
    },
    {
      "cell_type": "code",
      "source": [
        "def gauss_seidel(A, b, tolerance=1e-10, max_iterations=10000):\n",
        "    \n",
        "    x = np.zeros_like(b, dtype=np.double)\n",
        "    \n",
        "    #Iterate\n",
        "    for k in range(max_iterations):\n",
        "        \n",
        "        x_old  = x.copy()\n",
        "        \n",
        "        #Loop over rows\n",
        "        for i in range(A.shape[0]):\n",
        "            x[i] = (b[i] - np.dot(A[i,:i], x[:i]) - np.dot(A[i,(i+1):], x_old[(i+1):])) / A[i ,i]\n",
        "            \n",
        "        #Stop condition \n",
        "        if np.linalg.norm(x - x_old, ord=np.inf) / np.linalg.norm(x, ord=np.inf) < tolerance:\n",
        "            break\n",
        "            \n",
        "    return x"
      ],
      "metadata": {
        "id": "RAwRxOLLts0w"
      },
      "execution_count": 4,
      "outputs": []
    },
    {
      "cell_type": "code",
      "source": [
        "A=np.array([[10,-1,2,0],[-1,11,-1,3],[2,-1,10,-1],[0,-3,-1,8]])\n",
        "b=np.array([6,25,-11,15])"
      ],
      "metadata": {
        "id": "_WYov_XQtwPQ"
      },
      "execution_count": 5,
      "outputs": []
    },
    {
      "cell_type": "code",
      "source": [
        "x_g = gauss_seidel(A, b)"
      ],
      "metadata": {
        "id": "Gx0uS0h8ty3_"
      },
      "execution_count": 6,
      "outputs": []
    },
    {
      "cell_type": "code",
      "source": [
        "print(f'Gauss Seidel: {x_g}')"
      ],
      "metadata": {
        "colab": {
          "base_uri": "https://localhost:8080/"
        },
        "id": "lXpvjecWt10k",
        "outputId": "446c6c8a-89ed-41e5-88f4-4d4eca7de5e6"
      },
      "execution_count": 7,
      "outputs": [
        {
          "output_type": "stream",
          "name": "stdout",
          "text": [
            "Gauss Seidel: [ 0.94049587  1.62975207 -0.88760331  2.37520661]\n"
          ]
        }
      ]
    }
  ]
}