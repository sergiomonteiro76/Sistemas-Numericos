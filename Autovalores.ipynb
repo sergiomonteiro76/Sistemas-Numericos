{
  "nbformat": 4,
  "nbformat_minor": 0,
  "metadata": {
    "colab": {
      "provenance": []
    },
    "kernelspec": {
      "name": "python3",
      "display_name": "Python 3"
    },
    "language_info": {
      "name": "python"
    }
  },
  "cells": [
    {
      "cell_type": "markdown",
      "source": [
        "# **Sistemas Numéricos Computacionais.**\n",
        "\n",
        "**Autovalores**\n",
        "\n",
        "\n",
        "**prof: Sérgio Assunção Monteiro, D.Sc**\n",
        "\n",
        "**linkedin:** https://www.linkedin.com/in/sergio-assun%C3%A7%C3%A3o-monteiro-b781897b/\n",
        "\n",
        "**lattes:** http://lattes.cnpq.br/9489191035734025"
      ],
      "metadata": {
        "id": "NAm3job0ulWT"
      }
    },
    {
      "cell_type": "markdown",
      "source": [
        "**Exemplo 01**"
      ],
      "metadata": {
        "id": "xgyepUNkuw4-"
      }
    },
    {
      "cell_type": "code",
      "execution_count": 1,
      "metadata": {
        "colab": {
          "base_uri": "https://localhost:8080/"
        },
        "id": "oGwUtquIujve",
        "outputId": "6c7f437e-3ddf-4447-ee53-5e02e4983409"
      },
      "outputs": [
        {
          "output_type": "stream",
          "name": "stdout",
          "text": [
            "[[1 1 2 1]\n",
            " [2 9 6 9]\n",
            " [5 3 4 8]\n",
            " [5 6 9 7]]\n"
          ]
        }
      ],
      "source": [
        "import numpy as np\n",
        "n = 4\n",
        "P = np.random.randint(0,10,(n,n))\n",
        "print(P)"
      ]
    },
    {
      "cell_type": "markdown",
      "source": [
        "**Exemplo 02**"
      ],
      "metadata": {
        "id": "rKAnntT5vAmJ"
      }
    },
    {
      "cell_type": "code",
      "source": [
        "#Criar matriz simétrica\n",
        "S = P @ P.T\n",
        "print(S)"
      ],
      "metadata": {
        "colab": {
          "base_uri": "https://localhost:8080/"
        },
        "id": "mYIkEb_mvD9h",
        "outputId": "09044833-c007-463a-dc4a-316975dd363b"
      },
      "execution_count": 2,
      "outputs": [
        {
          "output_type": "stream",
          "name": "stdout",
          "text": [
            "[[  7  32  24  36]\n",
            " [ 32 202 133 181]\n",
            " [ 24 133 114 135]\n",
            " [ 36 181 135 191]]\n"
          ]
        }
      ]
    },
    {
      "cell_type": "markdown",
      "source": [
        "**Exemplo 03**"
      ],
      "metadata": {
        "id": "YFtaHuDsvIRf"
      }
    },
    {
      "cell_type": "code",
      "source": [
        "import numpy as np\n",
        "import matplotlib.pyplot as plt\n",
        "import scipy.linalg as la\n",
        "A = np.array([[6,2],[2,3]])\n",
        "results = la.eig(A)\n",
        "print(results[0]) # Autovalores\n",
        "print(results[1]) # Autovetores\n",
        "autvals, autvecs = la.eig(A)\n",
        "print(autvals); \n",
        "print(autvecs)"
      ],
      "metadata": {
        "colab": {
          "base_uri": "https://localhost:8080/"
        },
        "id": "ajhSvztUvKk8",
        "outputId": "38b67012-f4a9-4dfc-f878-5460cc1d7c8f"
      },
      "execution_count": 3,
      "outputs": [
        {
          "output_type": "stream",
          "name": "stdout",
          "text": [
            "[7.+0.j 2.+0.j]\n",
            "[[ 0.89442719 -0.4472136 ]\n",
            " [ 0.4472136   0.89442719]]\n",
            "[7.+0.j 2.+0.j]\n",
            "[[ 0.89442719 -0.4472136 ]\n",
            " [ 0.4472136   0.89442719]]\n"
          ]
        }
      ]
    },
    {
      "cell_type": "markdown",
      "source": [
        "**Exemplo 04**"
      ],
      "metadata": {
        "id": "JgMkaQw2vQkr"
      }
    },
    {
      "cell_type": "code",
      "source": [
        "import numpy as np\n",
        "import matplotlib.pyplot as plt\n",
        "import scipy.linalg as la\n",
        "\n",
        "A = np.array([[2, 2, 3], \n",
        "              [1, 3, 5],\n",
        "              [2, 9, 4]])\n",
        "# Autovalores e Autovetores\n",
        "autvals, autvecs = la.eig(A)\n",
        "print(f'autvals={autvals}')\n",
        "print(f'autvecs={autvecs}')"
      ],
      "metadata": {
        "colab": {
          "base_uri": "https://localhost:8080/"
        },
        "id": "kOYjOwOIvSTz",
        "outputId": "44a6c1d0-c2da-4f59-86cc-71e190a1cdd7"
      },
      "execution_count": 5,
      "outputs": [
        {
          "output_type": "stream",
          "name": "stdout",
          "text": [
            "autvals=[11.07157028+0.j  1.23077943+0.j -3.30234971+0.j]\n",
            "autvecs=[[ 0.36934041  0.97540635 -0.22135329]\n",
            " [ 0.52201256 -0.1758812  -0.58430159]\n",
            " [ 0.76882413 -0.13284674  0.78076525]]\n"
          ]
        }
      ]
    }
  ]
}